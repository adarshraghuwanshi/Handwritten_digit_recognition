{
 "cells": [
  {
   "cell_type": "code",
   "execution_count": 17,
   "id": "59926689",
   "metadata": {},
   "outputs": [],
   "source": [
    "import torch\n",
    "import torchvision\n",
    "import torchvision.transforms as transforms\n",
    "import matplotlib.pyplot as plt\n",
    "import numpy as np"
   ]
  },
  {
   "cell_type": "code",
   "execution_count": 3,
   "id": "b1e49b38",
   "metadata": {},
   "outputs": [],
   "source": [
    "from torchvision import datasets\n",
    "from torchvision.transforms import ToTensor"
   ]
  },
  {
   "cell_type": "code",
   "execution_count": 4,
   "id": "5066a4e6",
   "metadata": {},
   "outputs": [
    {
     "name": "stdout",
     "output_type": "stream",
     "text": [
      "Downloading http://yann.lecun.com/exdb/mnist/train-images-idx3-ubyte.gz\n",
      "Downloading http://yann.lecun.com/exdb/mnist/train-images-idx3-ubyte.gz to data\\MNIST\\raw\\train-images-idx3-ubyte.gz\n"
     ]
    },
    {
     "data": {
      "application/vnd.jupyter.widget-view+json": {
       "model_id": "9ce5a7ef37124618be72ae0ad25beaea",
       "version_major": 2,
       "version_minor": 0
      },
      "text/plain": [
       "  0%|          | 0/9912422 [00:00<?, ?it/s]"
      ]
     },
     "metadata": {},
     "output_type": "display_data"
    },
    {
     "name": "stdout",
     "output_type": "stream",
     "text": [
      "Extracting data\\MNIST\\raw\\train-images-idx3-ubyte.gz to data\\MNIST\\raw\n",
      "\n",
      "Downloading http://yann.lecun.com/exdb/mnist/train-labels-idx1-ubyte.gz\n",
      "Downloading http://yann.lecun.com/exdb/mnist/train-labels-idx1-ubyte.gz to data\\MNIST\\raw\\train-labels-idx1-ubyte.gz\n"
     ]
    },
    {
     "data": {
      "application/vnd.jupyter.widget-view+json": {
       "model_id": "17acc18ab20743c4aa2cddcc862b75d8",
       "version_major": 2,
       "version_minor": 0
      },
      "text/plain": [
       "  0%|          | 0/28881 [00:00<?, ?it/s]"
      ]
     },
     "metadata": {},
     "output_type": "display_data"
    },
    {
     "name": "stdout",
     "output_type": "stream",
     "text": [
      "Extracting data\\MNIST\\raw\\train-labels-idx1-ubyte.gz to data\\MNIST\\raw\n",
      "\n",
      "Downloading http://yann.lecun.com/exdb/mnist/t10k-images-idx3-ubyte.gz\n",
      "Downloading http://yann.lecun.com/exdb/mnist/t10k-images-idx3-ubyte.gz to data\\MNIST\\raw\\t10k-images-idx3-ubyte.gz\n"
     ]
    },
    {
     "data": {
      "application/vnd.jupyter.widget-view+json": {
       "model_id": "683c7f29b05c43cba9a9f19d0061e353",
       "version_major": 2,
       "version_minor": 0
      },
      "text/plain": [
       "  0%|          | 0/1648877 [00:00<?, ?it/s]"
      ]
     },
     "metadata": {},
     "output_type": "display_data"
    },
    {
     "name": "stdout",
     "output_type": "stream",
     "text": [
      "Extracting data\\MNIST\\raw\\t10k-images-idx3-ubyte.gz to data\\MNIST\\raw\n",
      "\n",
      "Downloading http://yann.lecun.com/exdb/mnist/t10k-labels-idx1-ubyte.gz\n",
      "Downloading http://yann.lecun.com/exdb/mnist/t10k-labels-idx1-ubyte.gz to data\\MNIST\\raw\\t10k-labels-idx1-ubyte.gz\n"
     ]
    },
    {
     "data": {
      "application/vnd.jupyter.widget-view+json": {
       "model_id": "66b3fd9f570141ccae6bb8d8706b3f30",
       "version_major": 2,
       "version_minor": 0
      },
      "text/plain": [
       "  0%|          | 0/4542 [00:00<?, ?it/s]"
      ]
     },
     "metadata": {},
     "output_type": "display_data"
    },
    {
     "name": "stdout",
     "output_type": "stream",
     "text": [
      "Extracting data\\MNIST\\raw\\t10k-labels-idx1-ubyte.gz to data\\MNIST\\raw\n",
      "\n"
     ]
    }
   ],
   "source": [
    "train_data = datasets.MNIST(\n",
    "    root = 'data',\n",
    "    train = True,                         \n",
    "    transform = ToTensor(), \n",
    "    download = True,            \n",
    ")\n",
    "test_data = datasets.MNIST(\n",
    "    root = 'data', \n",
    "    train = False, \n",
    "    transform = ToTensor()\n",
    ")"
   ]
  },
  {
   "cell_type": "code",
   "execution_count": 15,
   "id": "b4e9d96d",
   "metadata": {},
   "outputs": [],
   "source": [
    "num_epochs=4\n",
    "batch_size=4\n",
    "lr=0.001"
   ]
  },
  {
   "cell_type": "code",
   "execution_count": 20,
   "id": "8c2c3248",
   "metadata": {},
   "outputs": [
    {
     "name": "stdout",
     "output_type": "stream",
     "text": [
      "Dataset MNIST\n",
      "    Number of datapoints: 60000\n",
      "    Root location: data\n",
      "    Split: Train\n",
      "    StandardTransform\n",
      "Transform: ToTensor()\n"
     ]
    }
   ],
   "source": [
    "print(train_data)"
   ]
  },
  {
   "cell_type": "code",
   "execution_count": 22,
   "id": "dc205af8",
   "metadata": {},
   "outputs": [],
   "source": [
    "train_loader=torch.utils.data.DataLoader(train_data,batch_size=100,shuffle=True, num_workers=1)\n",
    "test_loader=torch.utils.data.DataLoader(test_data,batch_size=100,shuffle=True,num_workers=1)\n"
   ]
  },
  {
   "cell_type": "code",
   "execution_count": 45,
   "id": "a27b8fcc",
   "metadata": {},
   "outputs": [],
   "source": [
    "import torch.nn as nn\n",
    "class CNN(nn.Module):\n",
    "    def __init__(self):\n",
    "        super(CNN, self).__init__()\n",
    "        self.conv1 = nn.Sequential(         \n",
    "            nn.Conv2d(\n",
    "                in_channels=1,              \n",
    "                out_channels=16,            \n",
    "                kernel_size=5,              \n",
    "                stride=1,                   \n",
    "                padding=2,                  \n",
    "            ),                              \n",
    "            nn.ReLU(),                      \n",
    "            nn.MaxPool2d(kernel_size=2),    \n",
    "        )\n",
    "        self.conv2 = nn.Sequential(         \n",
    "            nn.Conv2d(16, 32, 5, 1, 2),     \n",
    "            nn.ReLU(),                      \n",
    "            nn.MaxPool2d(2),                \n",
    "        )\n",
    "        # fully connected layer, output 10 classes\n",
    "        self.out = nn.Linear(32 * 7 * 7, 10)\n",
    "    def forward(self, x):\n",
    "        x = self.conv1(x)\n",
    "        x = self.conv2(x)\n",
    "        # flatten the output of conv2 to (batch_size, 32 * 7 * 7)\n",
    "        x = x.view(x.size(0), -1)       \n",
    "        output = self.out(x)\n",
    "        return output, x    # return x for visualization"
   ]
  },
  {
   "cell_type": "code",
   "execution_count": 46,
   "id": "4fe83d29",
   "metadata": {},
   "outputs": [
    {
     "name": "stdout",
     "output_type": "stream",
     "text": [
      "CNN(\n",
      "  (conv1): Sequential(\n",
      "    (0): Conv2d(1, 16, kernel_size=(5, 5), stride=(1, 1), padding=(2, 2))\n",
      "    (1): ReLU()\n",
      "    (2): MaxPool2d(kernel_size=2, stride=2, padding=0, dilation=1, ceil_mode=False)\n",
      "  )\n",
      "  (conv2): Sequential(\n",
      "    (0): Conv2d(16, 32, kernel_size=(5, 5), stride=(1, 1), padding=(2, 2))\n",
      "    (1): ReLU()\n",
      "    (2): MaxPool2d(kernel_size=2, stride=2, padding=0, dilation=1, ceil_mode=False)\n",
      "  )\n",
      "  (out): Linear(in_features=1568, out_features=10, bias=True)\n",
      ")\n"
     ]
    }
   ],
   "source": [
    "cnn = CNN()\n",
    "print(cnn)\n"
   ]
  },
  {
   "cell_type": "code",
   "execution_count": 47,
   "id": "e3bd2c47",
   "metadata": {},
   "outputs": [
    {
     "data": {
      "text/plain": [
       "CrossEntropyLoss()"
      ]
     },
     "execution_count": 47,
     "metadata": {},
     "output_type": "execute_result"
    }
   ],
   "source": [
    "loss_func=nn.CrossEntropyLoss()\n",
    "loss_func"
   ]
  },
  {
   "cell_type": "code",
   "execution_count": 48,
   "id": "924d4d95",
   "metadata": {},
   "outputs": [
    {
     "data": {
      "text/plain": [
       "Adam (\n",
       "Parameter Group 0\n",
       "    amsgrad: False\n",
       "    betas: (0.9, 0.999)\n",
       "    capturable: False\n",
       "    differentiable: False\n",
       "    eps: 1e-08\n",
       "    foreach: None\n",
       "    fused: False\n",
       "    lr: 0.01\n",
       "    maximize: False\n",
       "    weight_decay: 0\n",
       ")"
      ]
     },
     "execution_count": 48,
     "metadata": {},
     "output_type": "execute_result"
    }
   ],
   "source": [
    "from torch import optim\n",
    "optimizer = optim.Adam(cnn.parameters(), lr = 0.01)   \n",
    "optimizer"
   ]
  },
  {
   "cell_type": "code",
   "execution_count": 53,
   "id": "14bc3da8",
   "metadata": {},
   "outputs": [
    {
     "data": {
      "text/plain": [
       "{'train': <torch.utils.data.dataloader.DataLoader at 0x2be67343c70>,\n",
       " 'test': <torch.utils.data.dataloader.DataLoader at 0x2be67341f90>}"
      ]
     },
     "execution_count": 53,
     "metadata": {},
     "output_type": "execute_result"
    }
   ],
   "source": [
    "from torch.utils.data import DataLoader\n",
    "loaders = {\n",
    "    'train' : torch.utils.data.DataLoader(train_data, \n",
    "                                          batch_size=100, \n",
    "                                          shuffle=True, \n",
    "                                          num_workers=1),\n",
    "    \n",
    "    'test'  : torch.utils.data.DataLoader(test_data, \n",
    "                                          batch_size=100, \n",
    "                                          shuffle=True, \n",
    "                                          num_workers=1),\n",
    "}\n",
    "loaders"
   ]
  },
  {
   "cell_type": "code",
   "execution_count": 54,
   "id": "53bb184a",
   "metadata": {},
   "outputs": [
    {
     "name": "stdout",
     "output_type": "stream",
     "text": [
      "Epoch [1/10], Step [100/600], Loss: 0.2639\n",
      "Epoch [1/10], Step [200/600], Loss: 0.1087\n",
      "Epoch [1/10], Step [300/600], Loss: 0.0988\n",
      "Epoch [1/10], Step [400/600], Loss: 0.0195\n",
      "Epoch [1/10], Step [500/600], Loss: 0.0405\n",
      "Epoch [1/10], Step [600/600], Loss: 0.1518\n",
      "Epoch [2/10], Step [100/600], Loss: 0.0064\n",
      "Epoch [2/10], Step [200/600], Loss: 0.0842\n",
      "Epoch [2/10], Step [300/600], Loss: 0.1168\n",
      "Epoch [2/10], Step [400/600], Loss: 0.1128\n",
      "Epoch [2/10], Step [500/600], Loss: 0.0711\n",
      "Epoch [2/10], Step [600/600], Loss: 0.0246\n",
      "Epoch [3/10], Step [100/600], Loss: 0.1228\n",
      "Epoch [3/10], Step [200/600], Loss: 0.0359\n",
      "Epoch [3/10], Step [300/600], Loss: 0.0224\n",
      "Epoch [3/10], Step [400/600], Loss: 0.0299\n",
      "Epoch [3/10], Step [500/600], Loss: 0.0164\n",
      "Epoch [3/10], Step [600/600], Loss: 0.0432\n",
      "Epoch [4/10], Step [100/600], Loss: 0.0297\n",
      "Epoch [4/10], Step [200/600], Loss: 0.0413\n",
      "Epoch [4/10], Step [300/600], Loss: 0.0617\n",
      "Epoch [4/10], Step [400/600], Loss: 0.0964\n",
      "Epoch [4/10], Step [500/600], Loss: 0.0657\n",
      "Epoch [4/10], Step [600/600], Loss: 0.0613\n",
      "Epoch [5/10], Step [100/600], Loss: 0.0509\n",
      "Epoch [5/10], Step [200/600], Loss: 0.0077\n",
      "Epoch [5/10], Step [300/600], Loss: 0.0247\n",
      "Epoch [5/10], Step [400/600], Loss: 0.0110\n",
      "Epoch [5/10], Step [500/600], Loss: 0.0665\n",
      "Epoch [5/10], Step [600/600], Loss: 0.0047\n",
      "Epoch [6/10], Step [100/600], Loss: 0.0050\n",
      "Epoch [6/10], Step [200/600], Loss: 0.0312\n",
      "Epoch [6/10], Step [300/600], Loss: 0.0871\n",
      "Epoch [6/10], Step [400/600], Loss: 0.0032\n",
      "Epoch [6/10], Step [500/600], Loss: 0.0679\n",
      "Epoch [6/10], Step [600/600], Loss: 0.0044\n",
      "Epoch [7/10], Step [100/600], Loss: 0.0022\n",
      "Epoch [7/10], Step [200/600], Loss: 0.0175\n",
      "Epoch [7/10], Step [300/600], Loss: 0.0444\n",
      "Epoch [7/10], Step [400/600], Loss: 0.0749\n",
      "Epoch [7/10], Step [500/600], Loss: 0.1088\n",
      "Epoch [7/10], Step [600/600], Loss: 0.1441\n",
      "Epoch [8/10], Step [100/600], Loss: 0.1139\n",
      "Epoch [8/10], Step [200/600], Loss: 0.0033\n",
      "Epoch [8/10], Step [300/600], Loss: 0.1443\n",
      "Epoch [8/10], Step [400/600], Loss: 0.0045\n",
      "Epoch [8/10], Step [500/600], Loss: 0.0070\n",
      "Epoch [8/10], Step [600/600], Loss: 0.0043\n",
      "Epoch [9/10], Step [100/600], Loss: 0.0627\n",
      "Epoch [9/10], Step [200/600], Loss: 0.0339\n",
      "Epoch [9/10], Step [300/600], Loss: 0.0206\n",
      "Epoch [9/10], Step [400/600], Loss: 0.0064\n",
      "Epoch [9/10], Step [500/600], Loss: 0.1895\n",
      "Epoch [9/10], Step [600/600], Loss: 0.0307\n",
      "Epoch [10/10], Step [100/600], Loss: 0.0065\n",
      "Epoch [10/10], Step [200/600], Loss: 0.0017\n",
      "Epoch [10/10], Step [300/600], Loss: 0.0269\n",
      "Epoch [10/10], Step [400/600], Loss: 0.0923\n",
      "Epoch [10/10], Step [500/600], Loss: 0.0125\n",
      "Epoch [10/10], Step [600/600], Loss: 0.0113\n"
     ]
    }
   ],
   "source": [
    "from torch.autograd import Variable\n",
    "num_epochs = 10\n",
    "def train(num_epochs, cnn, loaders):\n",
    "    \n",
    "    cnn.train()\n",
    "        \n",
    "    # Train the model\n",
    "    total_step = len(loaders['train'])\n",
    "        \n",
    "    for epoch in range(num_epochs):\n",
    "        for i, (images, labels) in enumerate(loaders['train']):\n",
    "            \n",
    "            # gives batch data, normalize x when iterate train_loader\n",
    "            b_x = Variable(images)   # batch x\n",
    "            b_y = Variable(labels)   # batch y\n",
    "            output = cnn(b_x)[0]               \n",
    "            loss = loss_func(output, b_y)\n",
    "            \n",
    "            # clear gradients for this training step   \n",
    "            optimizer.zero_grad()           \n",
    "            \n",
    "            # backpropagation, compute gradients \n",
    "            loss.backward()    \n",
    "            # apply gradients             \n",
    "            optimizer.step()                \n",
    "            \n",
    "            if (i+1) % 100 == 0:\n",
    "                print ('Epoch [{}/{}], Step [{}/{}], Loss: {:.4f}' \n",
    "                       .format(epoch + 1, num_epochs, i + 1, total_step, loss.item()))\n",
    "             \n",
    "train(num_epochs, cnn, loaders)"
   ]
  },
  {
   "cell_type": "code",
   "execution_count": null,
   "id": "451c63c5",
   "metadata": {},
   "outputs": [],
   "source": []
  }
 ],
 "metadata": {
  "kernelspec": {
   "display_name": "Python 3 (ipykernel)",
   "language": "python",
   "name": "python3"
  },
  "language_info": {
   "codemirror_mode": {
    "name": "ipython",
    "version": 3
   },
   "file_extension": ".py",
   "mimetype": "text/x-python",
   "name": "python",
   "nbconvert_exporter": "python",
   "pygments_lexer": "ipython3",
   "version": "3.10.1"
  }
 },
 "nbformat": 4,
 "nbformat_minor": 5
}
